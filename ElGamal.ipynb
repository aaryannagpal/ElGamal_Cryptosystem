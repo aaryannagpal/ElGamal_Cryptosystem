{
 "cells": [
  {
   "cell_type": "markdown",
   "id": "62c031b0",
   "metadata": {},
   "source": [
    "# ElGamal Cryptosystem"
   ]
  },
  {
   "cell_type": "markdown",
   "id": "17ea4a43",
   "metadata": {},
   "source": [
    "### Importing the necessary modules"
   ]
  },
  {
   "cell_type": "code",
   "execution_count": 8,
   "id": "21db6370",
   "metadata": {},
   "outputs": [],
   "source": [
    "import random\n",
    "import numpy as np\n",
    "from math import ceil, floor"
   ]
  },
  {
   "cell_type": "markdown",
   "id": "3b97a0c6",
   "metadata": {},
   "source": [
    "## Creating Generator"
   ]
  },
  {
   "cell_type": "markdown",
   "id": "54eefd1a",
   "metadata": {},
   "source": [
    "### Ferman Test to check primality"
   ]
  },
  {
   "cell_type": "code",
   "execution_count": 9,
   "id": "47768d87",
   "metadata": {},
   "outputs": [],
   "source": [
    "def checkPrime(a):\n",
    "    if a==2:\n",
    "        return True\n",
    "    i=0\n",
    "    while i<5:\n",
    "        p=np.random.randint(2,20)\n",
    "        if pow(p,a-1,a)!=1:\n",
    "            return False\n",
    "        else:\n",
    "            return True\n",
    "        i+=1"
   ]
  },
  {
   "cell_type": "markdown",
   "id": "bd6f9127",
   "metadata": {},
   "source": [
    "### Generating a large Prime Number"
   ]
  },
  {
   "cell_type": "code",
   "execution_count": 10,
   "id": "256145fd",
   "metadata": {},
   "outputs": [],
   "source": [
    "def LargePrime(k):  \n",
    "    \n",
    "    b=100*(math.log(k,2)+1) #number of attempts max\n",
    "    while b>0:\n",
    "        n = random.randrange(2**(k-1),2**(k))\n",
    "        b-=1\n",
    "        if checkPrime(n) == True:\n",
    "            return n\n",
    "    return \"Failure in computing\""
   ]
  },
  {
   "cell_type": "markdown",
   "id": "19a2d5cc",
   "metadata": {},
   "source": [
    "### Creating a prime numbers $p$"
   ]
  },
  {
   "cell_type": "code",
   "execution_count": 11,
   "id": "54e85459",
   "metadata": {
    "scrolled": false
   },
   "outputs": [
    {
     "data": {
      "text/plain": [
       "730516215832081329290168364907"
      ]
     },
     "execution_count": 11,
     "metadata": {},
     "output_type": "execute_result"
    }
   ],
   "source": [
    "p = LargePrime(100)\n",
    "p"
   ]
  },
  {
   "cell_type": "markdown",
   "id": "7163f7d1",
   "metadata": {},
   "source": [
    "### Defining a function to find Prime Factors"
   ]
  },
  {
   "cell_type": "code",
   "execution_count": 12,
   "id": "8232f967",
   "metadata": {},
   "outputs": [],
   "source": [
    "def Primefactors(n) :\n",
    "    s = set()\n",
    "    i = 2\n",
    "    while i*i <= n:\n",
    "        while (n % i) == 0:\n",
    "            s.add(i) \n",
    "            n //= i\n",
    "        i += 1\n",
    "    if n > 1:\n",
    "        s.add(n)\n",
    "    return s"
   ]
  },
  {
   "cell_type": "markdown",
   "id": "19274a1a",
   "metadata": {},
   "source": [
    "### Find Primitive Roots"
   ]
  },
  {
   "cell_type": "code",
   "execution_count": 13,
   "id": "ea3c7e61",
   "metadata": {},
   "outputs": [],
   "source": [
    "def Primitive(n) :\n",
    "    if checkPrime(n) == False:\n",
    "        return -1\n",
    " \n",
    "    # Using Euler Totient function\n",
    "\n",
    "    m = n - 1 #number of relatively prime number\n",
    " \n",
    "    s = Primefactors(m)\n",
    " \n",
    "    \n",
    "    for i in range(2, m + 1):\n",
    "        \n",
    "        f = False\n",
    "        \n",
    "        for j in s:\n",
    "            if (pow(i, m // j, n) == 1):\n",
    " \n",
    "                f = True\n",
    "                break\n",
    "             \n",
    "        # No power with value 1.\n",
    "        if f == False:\n",
    "            return i\n",
    " \n",
    "    # No primitive root found\n",
    "    return -1"
   ]
  },
  {
   "cell_type": "code",
   "execution_count": 14,
   "id": "b21b33aa",
   "metadata": {},
   "outputs": [],
   "source": [
    "g = Primitive(p)\n",
    "g"
   ]
  },
  {
   "cell_type": "markdown",
   "id": "0f9882af",
   "metadata": {},
   "source": [
    "### To find modulo inverso"
   ]
  },
  {
   "cell_type": "code",
   "execution_count": null,
   "id": "6cf47e39",
   "metadata": {},
   "outputs": [],
   "source": [
    "def extended_euclid(m,n):\n",
    "    if n == 0:\n",
    "        return (m,1,0)\n",
    "    else:\n",
    "        q = m // n\n",
    "        r = m % n\n",
    "        (g,u,v) = extended_euclid(n,r)\n",
    "    return (g,v,u-q*v)"
   ]
  },
  {
   "cell_type": "code",
   "execution_count": null,
   "id": "bebb7da8",
   "metadata": {},
   "outputs": [],
   "source": [
    "def inv(s,p):\n",
    "    (g,x,y) = extended_euclid(s,p)\n",
    "    if (g != 1):\n",
    "        return (0) \n",
    "    else:\n",
    "        return(x % p)"
   ]
  },
  {
   "cell_type": "markdown",
   "id": "a5fe5bcc",
   "metadata": {},
   "source": [
    "# Public Keys (A to B)"
   ]
  },
  {
   "cell_type": "markdown",
   "id": "dfc84964",
   "metadata": {},
   "source": [
    "## B"
   ]
  },
  {
   "cell_type": "code",
   "execution_count": null,
   "id": "00a11e95",
   "metadata": {},
   "outputs": [],
   "source": [
    "b = random.randint(1,p-1) "
   ]
  },
  {
   "cell_type": "code",
   "execution_count": null,
   "id": "e25888dd",
   "metadata": {},
   "outputs": [],
   "source": [
    "B = pow(g,b,p)"
   ]
  },
  {
   "cell_type": "code",
   "execution_count": null,
   "id": "340922b4",
   "metadata": {},
   "outputs": [],
   "source": [
    "public_key_b = (p,g,B)"
   ]
  },
  {
   "cell_type": "markdown",
   "id": "70831e4b",
   "metadata": {},
   "source": [
    "## A"
   ]
  },
  {
   "cell_type": "code",
   "execution_count": null,
   "id": "cc78b929",
   "metadata": {},
   "outputs": [],
   "source": [
    "a = random.randint(1,p-1)"
   ]
  },
  {
   "cell_type": "code",
   "execution_count": null,
   "id": "5f688fc0",
   "metadata": {
    "scrolled": true
   },
   "outputs": [],
   "source": [
    "A = pow(g,a,p)"
   ]
  },
  {
   "cell_type": "markdown",
   "id": "fb2196c6",
   "metadata": {},
   "source": [
    "### Creating Secret Keys"
   ]
  },
  {
   "cell_type": "code",
   "execution_count": null,
   "id": "e78b239c",
   "metadata": {},
   "outputs": [],
   "source": [
    "s_a = pow(B,a,p)"
   ]
  },
  {
   "cell_type": "code",
   "execution_count": null,
   "id": "4e58b290",
   "metadata": {},
   "outputs": [],
   "source": [
    "s_b = pow(A,b,p)"
   ]
  },
  {
   "cell_type": "code",
   "execution_count": null,
   "id": "8c102b3f",
   "metadata": {},
   "outputs": [
    {
     "data": {
      "text/plain": [
       "763256996299446286654020647630"
      ]
     },
     "execution_count": 17,
     "metadata": {},
     "output_type": "execute_result"
    }
   ],
   "source": [
    "if(s_b == s_a):\n",
    "    key = s_a\n",
    "else:\n",
    "    key = \"ERROR\"\n",
    "key"
   ]
  },
  {
   "cell_type": "markdown",
   "id": "b7713aae",
   "metadata": {},
   "source": [
    "# A Encrypting"
   ]
  },
  {
   "cell_type": "code",
   "execution_count": null,
   "id": "43afc741",
   "metadata": {},
   "outputs": [],
   "source": [
    "def encrypt(plain,key):\n",
    "    X=[]\n",
    "    M=0\n",
    "    for i in plain:\n",
    "        M = ord(i)\n",
    "        c=(M*key)%p\n",
    "        X.append(c)\n",
    "    return (X)"
   ]
  },
  {
   "cell_type": "code",
   "execution_count": null,
   "id": "3290a191",
   "metadata": {},
   "outputs": [
    {
     "data": {
      "text/plain": [
       "[524957109621534999048172664092,\n",
       " 678246942637966726613471574773,\n",
       " 787435664432302498572258996138,\n",
       " 787435664432302498572258996138,\n",
       " 983762552409926064686578094210,\n",
       " 88202222444191911213022978632,\n",
       " 349616720994055293679618008753,\n",
       " 613159332065726910261195642724,\n",
       " 874573830615590292727790672845,\n",
       " 591108776454678932457939898066,\n",
       " 896624386226638270531046417503,\n",
       " 349616720994055293679618008753,\n",
       " 591108776454678932457939898066,\n",
       " 896624386226638270531046417503,\n",
       " 349616720994055293679618008753,\n",
       " 328630221643911432933853566020,\n",
       " 787435664432302498572258996138,\n",
       " 808422163782446359318023438871,\n",
       " 765385108821254520769003251480,\n",
       " 503970610271391138302408221359,\n",
       " 765385108821254520769003251480,\n",
       " 787435664432302498572258996138]"
      ]
     },
     "execution_count": 19,
     "metadata": {},
     "output_type": "execute_result"
    }
   ],
   "source": [
    "a = \"Hello, this is ElGamal\"\n",
    "cipher = encrypt(a,key)\n",
    "cipher"
   ]
  },
  {
   "cell_type": "markdown",
   "id": "0f6686d0",
   "metadata": {},
   "source": [
    "# B Decrypting"
   ]
  },
  {
   "cell_type": "code",
   "execution_count": null,
   "id": "7f96e4f3",
   "metadata": {},
   "outputs": [],
   "source": [
    "def decrypt(cipher, key):\n",
    "    key_inv = inv(key,p)\n",
    "    x=''\n",
    "    for i in cipher:\n",
    "        m=(i*key_inv)%p\n",
    "        c=chr(m)\n",
    "        x+=c\n",
    "    return x  "
   ]
  },
  {
   "cell_type": "code",
   "execution_count": null,
   "id": "b93e050b",
   "metadata": {
    "scrolled": true
   },
   "outputs": [
    {
     "data": {
      "text/plain": [
       "'Hello, this is ElGamal'"
      ]
     },
     "execution_count": 21,
     "metadata": {},
     "output_type": "execute_result"
    }
   ],
   "source": [
    "decrypt(cipher, key)"
   ]
  }
 ],
 "metadata": {
  "kernelspec": {
   "display_name": "Python 3.9.13 ('base')",
   "language": "python",
   "name": "python3"
  },
  "language_info": {
   "codemirror_mode": {
    "name": "ipython",
    "version": 3
   },
   "file_extension": ".py",
   "mimetype": "text/x-python",
   "name": "python",
   "nbconvert_exporter": "python",
   "pygments_lexer": "ipython3",
   "version": "3.9.13"
  },
  "vscode": {
   "interpreter": {
    "hash": "cf36844fffeb11783a914f98448720fb0893899eb07759e4a0e32f8519f6ff78"
   }
  }
 },
 "nbformat": 4,
 "nbformat_minor": 5
}
